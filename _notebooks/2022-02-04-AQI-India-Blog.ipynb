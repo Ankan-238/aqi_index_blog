{
 "cells": [
  {
   "cell_type": "code",
   "execution_count": 1,
   "metadata": {
    "execution": {
     "iopub.execute_input": "2021-07-03T04:03:42.86407Z",
     "iopub.status.busy": "2021-07-03T04:03:42.863799Z",
     "iopub.status.idle": "2021-07-03T04:03:42.868822Z",
     "shell.execute_reply": "2021-07-03T04:03:42.86744Z",
     "shell.execute_reply.started": "2021-07-03T04:03:42.864047Z"
    },
    "id": "r1Icy1L55iJa"
   },
   "outputs": [
    {
     "ename": "SyntaxError",
     "evalue": "invalid syntax (Temp/ipykernel_15036/2681659072.py, line 2)",
     "output_type": "error",
     "traceback": [
      "\u001b[1;36m  File \u001b[1;32m\"C:\\Users\\Ankan\\AppData\\Local\\Temp/ipykernel_15036/2681659072.py\"\u001b[1;36m, line \u001b[1;32m2\u001b[0m\n\u001b[1;33m    > \"Welcome to the first blog on the Air Quality Index of India during 2015-2020.\"\u001b[0m\n\u001b[1;37m    ^\u001b[0m\n\u001b[1;31mSyntaxError\u001b[0m\u001b[1;31m:\u001b[0m invalid syntax\n"
     ]
    }
   ],
   "source": [
    "# \"Air Quality Index India Blog\"\n",
    "> \"Welcome to the first blog on the Air Quality Index of India during 2015-2020.\"\n",
    "\n",
    "- toc:true- branch: master\n",
    "- badges: true\n",
    "- comments: true\n",
    "- author: Ankan Hore\n",
    "- categories: [fastpages, jupyter]"
   ]
  },
  {
   "cell_type": "code",
   "execution_count": null,
   "metadata": {},
   "outputs": [],
   "source": [
    "import seaborn as sns\n",
    "import numpy as np\n",
    "import pandas as pd\n",
    "import matplotlib.pyplot as plt\n",
    "%matplotlib inline \n",
    "\n",
    "#keeping the graphs intact along with the notebook and accessing the inline utilitiies from the backend."
   ]
  },
  {
   "cell_type": "code",
   "execution_count": null,
   "metadata": {
    "execution": {
     "iopub.execute_input": "2021-07-03T04:03:42.896821Z",
     "iopub.status.busy": "2021-07-03T04:03:42.896445Z",
     "iopub.status.idle": "2021-07-03T04:03:42.944405Z",
     "shell.execute_reply": "2021-07-03T04:03:42.943309Z",
     "shell.execute_reply.started": "2021-07-03T04:03:42.89679Z"
    },
    "id": "8naPpPiM5vhP"
   },
   "outputs": [],
   "source": [
    "df = pd.read_csv('../Desktop/Air Quality Index/city_day.csv')\n",
    "df_city_day = df.copy()"
   ]
  },
  {
   "cell_type": "code",
   "execution_count": null,
   "metadata": {
    "execution": {
     "iopub.execute_input": "2021-07-03T04:03:42.981719Z",
     "iopub.status.busy": "2021-07-03T04:03:42.981396Z",
     "iopub.status.idle": "2021-07-03T04:03:43.00302Z",
     "shell.execute_reply": "2021-07-03T04:03:43.001444Z",
     "shell.execute_reply.started": "2021-07-03T04:03:42.981695Z"
    },
    "id": "uBgXTOIA51jv",
    "outputId": "8f23e863-6424-4098-f3ed-fad8e49d16b6"
   },
   "outputs": [],
   "source": [
    "df_city_day.head()"
   ]
  },
  {
   "cell_type": "code",
   "execution_count": null,
   "metadata": {
    "execution": {
     "iopub.execute_input": "2021-07-03T04:03:43.009234Z",
     "iopub.status.busy": "2021-07-03T04:03:43.008765Z",
     "iopub.status.idle": "2021-07-03T04:03:43.029156Z",
     "shell.execute_reply": "2021-07-03T04:03:43.028143Z",
     "shell.execute_reply.started": "2021-07-03T04:03:43.009199Z"
    },
    "id": "3cNZiCab54fd",
    "outputId": "2d64b081-4994-412a-c2db-3a367594ab70"
   },
   "outputs": [],
   "source": [
    "df_city_day.info()"
   ]
  },
  {
   "cell_type": "code",
   "execution_count": null,
   "metadata": {
    "execution": {
     "iopub.execute_input": "2021-07-03T04:03:43.030868Z",
     "iopub.status.busy": "2021-07-03T04:03:43.030434Z",
     "iopub.status.idle": "2021-07-03T04:03:43.043366Z",
     "shell.execute_reply": "2021-07-03T04:03:43.041638Z",
     "shell.execute_reply.started": "2021-07-03T04:03:43.030838Z"
    },
    "id": "D8KP4HfP6L41",
    "outputId": "5c6e6f6e-dca2-44d0-e88b-e8baec562b30"
   },
   "outputs": [],
   "source": [
    "df_city_day.isnull().sum()"
   ]
  },
  {
   "cell_type": "markdown",
   "metadata": {
    "id": "Lwoq--IB-5M_"
   },
   "source": [
    "We can see that Xylene and PM10 have the most null values(18K and 11K) respectively. "
   ]
  },
  {
   "cell_type": "code",
   "execution_count": null,
   "metadata": {
    "execution": {
     "iopub.execute_input": "2021-07-03T04:03:43.06189Z",
     "iopub.status.busy": "2021-07-03T04:03:43.061446Z",
     "iopub.status.idle": "2021-07-03T04:03:43.069785Z",
     "shell.execute_reply": "2021-07-03T04:03:43.068629Z",
     "shell.execute_reply.started": "2021-07-03T04:03:43.061864Z"
    },
    "id": "U0i9ALwX7FzZ",
    "outputId": "92e0dedd-6ab2-418e-dc5e-508346b1d6ed"
   },
   "outputs": [],
   "source": [
    "df_city_day['AQI_Bucket'].value_counts(ascending= True)"
   ]
  },
  {
   "cell_type": "markdown",
   "metadata": {},
   "source": [
    "Mainly there are six categories of AQI which we observe: *Good, Satisfactory, Moderate, Poor, Very Poor and Severe.*"
   ]
  },
  {
   "cell_type": "code",
   "execution_count": null,
   "metadata": {
    "execution": {
     "iopub.execute_input": "2021-07-03T04:03:43.131644Z",
     "iopub.status.busy": "2021-07-03T04:03:43.131266Z",
     "iopub.status.idle": "2021-07-03T04:03:43.408079Z",
     "shell.execute_reply": "2021-07-03T04:03:43.407259Z",
     "shell.execute_reply.started": "2021-07-03T04:03:43.13162Z"
    },
    "id": "yN0EdkInASK3",
    "outputId": "b563d4df-8506-43f9-c28f-a5bb12ce96bc"
   },
   "outputs": [],
   "source": [
    "sns.catplot(x = \"AQI_Bucket\", kind= \"count\", palette = \"ch: 2.87\", height=5, aspect=1.1, data = df_city_day)"
   ]
  },
  {
   "cell_type": "markdown",
   "metadata": {
    "id": "yfDfGntHE-U2"
   },
   "source": [
    "**Plot: Number of entries vs AQI_Bucket Catogory**"
   ]
  },
  {
   "cell_type": "markdown",
   "metadata": {},
   "source": [
    "Let us drop those null values which have the least part to play in the analysis of AQI. "
   ]
  },
  {
   "cell_type": "code",
   "execution_count": null,
   "metadata": {
    "execution": {
     "iopub.execute_input": "2021-07-03T04:03:43.409371Z",
     "iopub.status.busy": "2021-07-03T04:03:43.409078Z",
     "iopub.status.idle": "2021-07-03T04:03:43.416884Z",
     "shell.execute_reply": "2021-07-03T04:03:43.41604Z",
     "shell.execute_reply.started": "2021-07-03T04:03:43.409348Z"
    },
    "id": "lbr_JCxxEoa2"
   },
   "outputs": [],
   "source": [
    "df_city_day = df_city_day.dropna(axis = 0, subset = ['PM10'])"
   ]
  },
  {
   "cell_type": "code",
   "execution_count": null,
   "metadata": {
    "execution": {
     "iopub.execute_input": "2021-07-03T04:03:43.418819Z",
     "iopub.status.busy": "2021-07-03T04:03:43.418436Z",
     "iopub.status.idle": "2021-07-03T04:03:43.434718Z",
     "shell.execute_reply": "2021-07-03T04:03:43.433491Z",
     "shell.execute_reply.started": "2021-07-03T04:03:43.418787Z"
    },
    "id": "C_NibHxMOjO9"
   },
   "outputs": [],
   "source": [
    "df_city_day = df_city_day.dropna(axis = 0, subset = ['Xylene'])"
   ]
  },
  {
   "cell_type": "code",
   "execution_count": 2,
   "metadata": {
    "execution": {
     "iopub.execute_input": "2021-07-03T04:03:43.436697Z",
     "iopub.status.busy": "2021-07-03T04:03:43.436377Z",
     "iopub.status.idle": "2021-07-03T04:03:43.460139Z",
     "shell.execute_reply": "2021-07-03T04:03:43.459405Z",
     "shell.execute_reply.started": "2021-07-03T04:03:43.436668Z"
    },
    "id": "CIzaOh7zHBEx",
    "outputId": "d595aa1d-fb6c-43c1-ab25-e98ceb03258a"
   },
   "outputs": [
    {
     "ename": "NameError",
     "evalue": "name 'df_city_day' is not defined",
     "output_type": "error",
     "traceback": [
      "\u001b[1;31m---------------------------------------------------------------------------\u001b[0m",
      "\u001b[1;31mNameError\u001b[0m                                 Traceback (most recent call last)",
      "\u001b[1;32m~\\AppData\\Local\\Temp/ipykernel_15036/2508343832.py\u001b[0m in \u001b[0;36m<module>\u001b[1;34m\u001b[0m\n\u001b[1;32m----> 1\u001b[1;33m \u001b[0mdf_city_day\u001b[0m\u001b[1;33m.\u001b[0m\u001b[0minfo\u001b[0m\u001b[1;33m(\u001b[0m\u001b[1;33m)\u001b[0m\u001b[1;33m\u001b[0m\u001b[1;33m\u001b[0m\u001b[0m\n\u001b[0m",
      "\u001b[1;31mNameError\u001b[0m: name 'df_city_day' is not defined"
     ]
    }
   ],
   "source": [
    "df_city_day.info()"
   ]
  },
  {
   "cell_type": "markdown",
   "metadata": {},
   "source": [
    "We would analyse the contribution of these major pollutants city-wise."
   ]
  },
  {
   "cell_type": "code",
   "execution_count": null,
   "metadata": {
    "execution": {
     "iopub.execute_input": "2021-07-03T04:03:43.461475Z",
     "iopub.status.busy": "2021-07-03T04:03:43.461197Z",
     "iopub.status.idle": "2021-07-03T04:03:43.660525Z",
     "shell.execute_reply": "2021-07-03T04:03:43.659748Z",
     "shell.execute_reply.started": "2021-07-03T04:03:43.461452Z"
    },
    "id": "Vaq6zU-8HMHS",
    "outputId": "26b47a7e-dbe1-47fb-fec0-e98ded883793"
   },
   "outputs": [],
   "source": [
    "df_city_day[['PM2.5', 'City']].groupby(['City']).median().sort_values(\"PM2.5\", ascending = False).plot.bar()\n"
   ]
  },
  {
   "cell_type": "markdown",
   "metadata": {},
   "source": [
    "*Delhi* has the **highest levels of PM2.5** whereas Mumbai and Ernakulam turn out to be on the other side of the table. Major reasons behind the rise of PM2.5 levels in Delhi are increasing traffic, dust and smoke from fires."
   ]
  },
  {
   "cell_type": "code",
   "execution_count": null,
   "metadata": {
    "execution": {
     "iopub.execute_input": "2021-07-03T04:03:43.661723Z",
     "iopub.status.busy": "2021-07-03T04:03:43.661425Z",
     "iopub.status.idle": "2021-07-03T04:03:43.859753Z",
     "shell.execute_reply": "2021-07-03T04:03:43.859242Z",
     "shell.execute_reply.started": "2021-07-03T04:03:43.6617Z"
    },
    "id": "yTlTRSugIau4",
    "outputId": "6e8ef00b-fe08-4ff1-e6f6-3a9082d069a4"
   },
   "outputs": [],
   "source": [
    "df_city_day[['NO', 'City']].groupby(['City']).median().sort_values(\"NO\", ascending = False).plot.bar(color='brown')"
   ]
  },
  {
   "cell_type": "markdown",
   "metadata": {},
   "source": [
    "*Mumbai* has the **highest levels of NO** whereas Gurugram and Amaravati have quite minimal figures. Major spike of NO in the commercial capital of India are causing *respiratory ailments, hematologic side effects, metabolic disorders, low blood pressure, nausea, vomiting and diarrhoea.*"
   ]
  },
  {
   "cell_type": "code",
   "execution_count": null,
   "metadata": {
    "execution": {
     "iopub.execute_input": "2021-07-03T04:03:43.860802Z",
     "iopub.status.busy": "2021-07-03T04:03:43.860505Z",
     "iopub.status.idle": "2021-07-03T04:03:44.960433Z",
     "shell.execute_reply": "2021-07-03T04:03:44.959567Z",
     "shell.execute_reply.started": "2021-07-03T04:03:43.86078Z"
    }
   },
   "outputs": [],
   "source": [
    "df_city_day[['NO2', 'City']].groupby(['City']).median().sort_values(\"NO2\", ascending = False).plot.bar(color='purple')\n",
    "df_city_day[['CO', 'City']].groupby(['City']).median().sort_values(\"CO\", ascending = False).plot.bar(color='y')\n",
    "df_city_day[['SO2', 'City']].groupby(['City']).median().sort_values(\"SO2\", ascending = False).plot.bar(color='r')\n",
    "df_city_day[['O3', 'City']].groupby(['City']).median().sort_values(\"O3\", ascending = False).plot.bar(color='orange')\n",
    "df_city_day[['Benzene', 'City']].groupby(['City']).median().sort_values(\"Benzene\", ascending = False).plot.bar(color='teal')"
   ]
  },
  {
   "cell_type": "markdown",
   "metadata": {},
   "source": [
    "Ahmedabad has the highest stake when **nitrogen dioxides, sulphur dioxides and carbon monoxide** is concerned, whereas Gurugram and Kolkata are the most polluted due to **ozone** and **benzene** respectively. On a broader view, Ernakulam and Amaravati seem to be less hazardous compared to other mid-tier and top-tier cities."
   ]
  },
  {
   "cell_type": "code",
   "execution_count": null,
   "metadata": {
    "execution": {
     "iopub.execute_input": "2021-07-03T04:03:44.961982Z",
     "iopub.status.busy": "2021-07-03T04:03:44.96179Z",
     "iopub.status.idle": "2021-07-03T04:03:49.645567Z",
     "shell.execute_reply": "2021-07-03T04:03:49.644062Z",
     "shell.execute_reply.started": "2021-07-03T04:03:44.961961Z"
    },
    "id": "PF7WcdvzI3y_",
    "outputId": "1ec53309-916d-4a01-80ba-2339fa4826ad"
   },
   "outputs": [],
   "source": [
    "sns.set()\n",
    "cols = ['SO2', 'NOx', 'O3', 'NO2', 'PM2.5']\n",
    "sns.pairplot(df_city_day[cols], height = 2.5)\n",
    "plt.show()"
   ]
  },
  {
   "cell_type": "markdown",
   "metadata": {},
   "source": [
    "We see that SO2 and NO2 are more concentrated towards the origin, hence sensing to be somewhat correlated. While for others, there is no clear indication since they are widely scattered."
   ]
  },
  {
   "cell_type": "code",
   "execution_count": null,
   "metadata": {
    "execution": {
     "iopub.execute_input": "2021-07-03T04:03:49.647751Z",
     "iopub.status.busy": "2021-07-03T04:03:49.647457Z",
     "iopub.status.idle": "2021-07-03T04:03:50.024714Z",
     "shell.execute_reply": "2021-07-03T04:03:50.02369Z",
     "shell.execute_reply.started": "2021-07-03T04:03:49.647724Z"
    },
    "id": "o_PGFf6eMQ1K",
    "outputId": "afd114b5-901a-42e7-a90c-8dd4df95fe4f"
   },
   "outputs": [],
   "source": [
    "corrmat = df_city_day.corr()\n",
    "heatmap_df= corrmat.drop(['NOx', 'NH3','O3','Toluene','Xylene', 'AQI']).drop(['NOx', 'NH3','O3','Toluene','Xylene', 'AQI'], axis=1)\n",
    "f, ax = plt.subplots(figsize = (10,10))\n",
    "sns.heatmap(heatmap_df, vmax = 1, square = True, annot = True)"
   ]
  },
  {
   "cell_type": "markdown",
   "metadata": {},
   "source": [
    "**PM2.5** has a huge correlation with **PM10**- both being in the particulate matter category. We can also observe that there is some correlation between **carbon monoxide** and **sulphur dioxide**. Similarly, the same is analysed between **sulphur dioxide** and **nitrogen dioxide**. The rest are not directly correlated."
   ]
  },
  {
   "cell_type": "markdown",
   "metadata": {},
   "source": []
  }
 ],
 "metadata": {
  "kernelspec": {
   "display_name": "Python 3 (ipykernel)",
   "language": "python",
   "name": "python3"
  },
  "language_info": {
   "codemirror_mode": {
    "name": "ipython",
    "version": 3
   },
   "file_extension": ".py",
   "mimetype": "text/x-python",
   "name": "python",
   "nbconvert_exporter": "python",
   "pygments_lexer": "ipython3",
   "version": "3.9.7"
  }
 },
 "nbformat": 4,
 "nbformat_minor": 4
}
